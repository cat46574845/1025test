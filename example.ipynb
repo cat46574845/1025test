{
  "nbformat": 4,
  "nbformat_minor": 0,
  "metadata": {
    "colab": {
      "provenance": [],
      "gpuType": "T4",
      "include_colab_link": true
    },
    "kernelspec": {
      "name": "python3",
      "display_name": "Python 3"
    },
    "language_info": {
      "name": "python"
    },
    "accelerator": "GPU"
  },
  "cells": [
    {
      "cell_type": "markdown",
      "metadata": {
        "id": "view-in-github",
        "colab_type": "text"
      },
      "source": [
        "<a href=\"https://colab.research.google.com/github/cat46574845/1025test/blob/main/example.ipynb\" target=\"_parent\"><img src=\"https://colab.research.google.com/assets/colab-badge.svg\" alt=\"Open In Colab\"/></a>"
      ]
    },
    {
      "cell_type": "code",
      "execution_count": 2,
      "metadata": {
        "colab": {
          "base_uri": "https://localhost:8080/"
        },
        "cellView": "form",
        "id": "WCqI8zrlp99U",
        "outputId": "6b8262e7-7652-4c1a-c82f-e159f30774ac"
      },
      "outputs": [
        {
          "output_type": "stream",
          "name": "stdout",
          "text": [
            "Cloning into 'CryptoMamba'...\n",
            "remote: Enumerating objects: 187, done.\u001b[K\n",
            "remote: Counting objects: 100% (55/55), done.\u001b[K\n",
            "remote: Compressing objects: 100% (21/21), done.\u001b[K\n",
            "remote: Total 187 (delta 43), reused 34 (delta 34), pack-reused 132 (from 1)\u001b[K\n",
            "Receiving objects: 100% (187/187), 1.37 MiB | 13.22 MiB/s, done.\n",
            "Resolving deltas: 100% (89/89), done.\n",
            "/content/CryptoMamba\n"
          ]
        }
      ],
      "source": [
        "# @title Cloning\n",
        "!git clone https://github.com/MShahabSepehri/CryptoMamba.git\n",
        "%cd CryptoMamba/"
      ]
    },
    {
      "cell_type": "code",
      "source": [
        "# @title Installing requirements\n",
        "\n",
        "%%capture\n",
        "!pip install mamba-ssm[causal-conv1d]\n",
        "!pip install -r requirements.txt"
      ],
      "metadata": {
        "id": "QoSiNMCtqGj5"
      },
      "execution_count": 4,
      "outputs": []
    },
    {
      "cell_type": "code",
      "source": [
        "# @title Prediction\n",
        "!python scripts/one_day_pred.py --config cmamba_v --ckpt_path ./checkpoints/cmamba_v.ckpt --date 2024-12-15"
      ],
      "metadata": {
        "colab": {
          "base_uri": "https://localhost:8080/"
        },
        "id": "lAU_41CEeho4",
        "outputId": "1e0f4c6e-f90e-4980-eb74-850a74e2f9ac"
      },
      "execution_count": 5,
      "outputs": [
        {
          "output_type": "stream",
          "name": "stdout",
          "text": [
            "['Timestamp', 'Open', 'High', 'Low', 'Close', 'Volume']\n",
            "['Timestamp', 'Open', 'High', 'Low', 'Close', 'Volume']\n",
            "['Timestamp', 'Open', 'High', 'Low', 'Close', 'Volume']\n",
            "\n",
            "Prediction date: 2024-12-15\n",
            "Prediction: 102174.26\n",
            "Today value: 101372.97\n",
            "Smart trade: 39.21% buy\n",
            "Vanilla trade: -\n"
          ]
        }
      ]
    },
    {
      "cell_type": "code",
      "source": [
        "!python scripts/evaluation.py --config cmamba_v --ckpt_path ./checkpoints/cmamba_v.ckpt"
      ],
      "metadata": {
        "id": "FZB1ItGeARLD",
        "outputId": "a41e19bd-12f9-4f29-c74e-5b44654c484a",
        "colab": {
          "base_uri": "https://localhost:8080/"
        }
      },
      "execution_count": 7,
      "outputs": [
        {
          "output_type": "stream",
          "name": "stdout",
          "text": [
            "Seed set to 23\n",
            "['Timestamp', 'Open', 'High', 'Low', 'Close', 'Volume']\n",
            "['Timestamp', 'Open', 'High', 'Low', 'Close', 'Volume']\n",
            "['Timestamp', 'Open', 'High', 'Low', 'Close', 'Volume']\n",
            "1446 data points loaded as train split.\n",
            "/usr/local/lib/python3.11/dist-packages/torch/utils/data/dataloader.py:624: UserWarning: This DataLoader will create 4 worker processes in total. Our suggested max number of worker in current system is 2, which is smaller than what this DataLoader is going to create. Please be aware that excessive worker creation might get DataLoader running slow or even freeze, lower the worker number to avoid potential slowness/freeze if necessary.\n",
            "  warnings.warn(\n",
            "350 data points loaded as val split.\n",
            "350 data points loaded as test split.\n",
            " Split        MSE          RMSE     MAPE      MAE    \n",
            " Train    1390605.625    1179.239  0.02969  682.193  \n",
            "/usr/local/lib/python3.11/dist-packages/torch/utils/data/dataloader.py:624: UserWarning: This DataLoader will create 4 worker processes in total. Our suggested max number of worker in current system is 2, which is smaller than what this DataLoader is going to create. Please be aware that excessive worker creation might get DataLoader running slow or even freeze, lower the worker number to avoid potential slowness/freeze if necessary.\n",
            "  warnings.warn(\n",
            "  Val     359023.312     599.186   0.01686  398.647  \n",
            "/usr/local/lib/python3.11/dist-packages/torch/utils/data/dataloader.py:624: UserWarning: This DataLoader will create 4 worker processes in total. Our suggested max number of worker in current system is 2, which is smaller than what this DataLoader is going to create. Please be aware that excessive worker creation might get DataLoader running slow or even freeze, lower the worker number to avoid potential slowness/freeze if necessary.\n",
            "  warnings.warn(\n",
            " Test      2553899.5     1598.092  0.02034  1120.66  \n"
          ]
        }
      ]
    },
    {
      "cell_type": "code",
      "source": [
        "# @title Training\n",
        "!python scripts/training.py --config cmamba_v"
      ],
      "metadata": {
        "id": "fVSOA2b_ssQq"
      },
      "execution_count": null,
      "outputs": []
    }
  ]
}